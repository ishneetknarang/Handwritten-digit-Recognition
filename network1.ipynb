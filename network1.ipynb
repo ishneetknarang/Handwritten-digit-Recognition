{
 "cells": [
  {
   "cell_type": "code",
   "execution_count": 251,
   "metadata": {},
   "outputs": [],
   "source": [
    "import pickle\n",
    "import gzip\n",
    "import random\n",
    "import numpy as np"
   ]
  },
  {
   "cell_type": "code",
   "execution_count": 252,
   "metadata": {},
   "outputs": [],
   "source": [
    "\n",
    "def load_data():\n",
    "    f = gzip.open(r'C:\\Users\\Kul Garima\\.jupyter\\DeepLearningPython35-master\\mnist.pkl.gz', 'rb')\n",
    "    training_data, validation_data, test_data = pickle.load(f, encoding='latin1')\n",
    "    f.close()\n",
    "    return (training_data, validation_data, test_data)"
   ]
  },
  {
   "cell_type": "code",
   "execution_count": 280,
   "metadata": {},
   "outputs": [],
   "source": [
    "def load_data_wrapper():\n",
    "    tr_d, va_d, te_d = load_data()\n",
    "    \n",
    "    training_inputs = [np.reshape(x, (784, 1)) for x in tr_d[0]]\n",
    "    training_results = [vectorized_result(y) for y in tr_d[1]]\n",
    "    training_data = list(zip(training_inputs, training_results))\n",
    "    \n",
    "    validation_inputs = [np.reshape(x, (784, 1)) for x in va_d[0]]\n",
    "    validation_data = list(zip(validation_inputs, va_d[1]))\n",
    "    \n",
    "    test_inputs = [np.reshape(x, (784, 1)) for x in te_d[0]]\n",
    "    test_data = list(zip(test_inputs, te_d[1]))\n",
    "    \n",
    "    return (training_data, validation_data, test_data)"
   ]
  },
  {
   "cell_type": "code",
   "execution_count": 281,
   "metadata": {},
   "outputs": [],
   "source": [
    "def vectorized_result(j):\n",
    "    e = np.zeros((10, 1))\n",
    "    e[j] = 1.0\n",
    "    \n",
    "    return e"
   ]
  },
  {
   "cell_type": "code",
   "execution_count": 290,
   "metadata": {},
   "outputs": [],
   "source": [
    "class Network(object):\n",
    "\n",
    "    def __init__(self, sizes):\n",
    "        self.num_layers = len(sizes)\n",
    "        self.sizes = sizes\n",
    "        self.biases = [np.random.randn(y, 1) for y in sizes[1:]]\n",
    "        self.weights = [np.random.randn(y, x) for x, y in list(zip(sizes[:-1], sizes[1:]))]\n",
    "        \n",
    "    def feedforward(self, a):\n",
    "        for b, w in list(zip(self.biases, self.weights)):\n",
    "            a = sigmoid(np.dot(w, a)+b)\n",
    "        return a\n",
    "\n",
    "    def SGD(self,  training_data, epochs, mini_batch_size, eta, test_data = None):\n",
    "    \n",
    "        if test_data:\n",
    "            test_data = list(test_data)\n",
    "            n_test = len(test_data)\n",
    "        n = len(training_data)\n",
    "        \n",
    "        for j in range (epochs):\n",
    "            random.shuffle(training_data)\n",
    "            mini_batches =[ training_data[k:k+mini_batch_size] for k in range(0, n, mini_batch_size)]\n",
    "        \n",
    "            for mini_batch in mini_batches:\n",
    "                self.update_mini_batch(mini_batch, eta)\n",
    "            if test_data:\n",
    "                print(\"Epoch {0}: {1} / {2} \".format(j, self.evaluate(test_data), n_test))\n",
    "            else:\n",
    "                print(\"Epoch {0} complete\".format(j))\n",
    "    \n",
    "    def update_mini_batch(self, mini_batch, eta):\n",
    "        \n",
    "        bDash = [np.zeros(b.shape) for b in self.biases]\n",
    "        wDash = [np.zeros(w.shape) for w in self.weights]\n",
    "        for x, y in mini_batch:\n",
    "            \n",
    "            delta_bDash, delta_wDash = self.backprop(x, y)\n",
    "            \n",
    "            bDash = [nb+dnb for nb, dnb in list(zip(bDash, delta_bDash))]\n",
    "            wDash = [nw+dnw for nw, dnw in list(zip(wDash, delta_wDash))]\n",
    "            \n",
    "        self.weights = [w-(eta/len(mini_batch))*nw for w, nw in list(zip(self.weights, wDash))]\n",
    "        self.biases = [b-(eta/len(mini_batch))*nb for b, nb in list(zip(self.biases, bDash))]\n",
    "        \n",
    "        \n",
    "    def backprop(self, x, y):\n",
    "        \n",
    "        bDash = [np.zeros(b.shape) for b in self.biases]\n",
    "        wDash = [np.zeros(w.shape) for w in self.weights]\n",
    "        \n",
    "       \n",
    "        activation = x\n",
    "        activations = [x] \n",
    "        zs = [] \n",
    "        for b, w in list(zip(self.biases, self.weights)):\n",
    "            z = np.dot(w, activation)+b\n",
    "            zs.append(z)\n",
    "            activation = sigmoid(z)\n",
    "            activations.append(activation)\n",
    "            \n",
    "       \n",
    "        delta = self.cost_derivative(activations[-1], y)*sigmoid_prime(zs[-1])\n",
    "        bDash[-1] = delta\n",
    "        wDash[-1] = np.dot(delta, activations[-2].transpose())\n",
    "    \n",
    "        for l in range(2, self.num_layers):\n",
    "            z = zs[-l]\n",
    "            sp = sigmoid_prime(z)\n",
    "            delta = np.dot(self.weights[-l+1].transpose(), delta) * sp\n",
    "            bDash[-l] = delta\n",
    "            wDash[-l] = np.dot(delta, activations[-l-1].transpose())\n",
    "        return (bDash, wDash)\n",
    "    \n",
    "    \n",
    "    def evaluate(self,test_data):\n",
    "        test_results = [(np.argmax(self.feedforward(x)), y)\n",
    "                        for (x, y) in test_data]\n",
    "        return sum(int(x == y) for (x, y) in test_results)\n",
    "    \n",
    "    \n",
    "    def cost_derivative(self, output_activations, y):\n",
    "        return (output_activations-y)\n"
   ]
  },
  {
   "cell_type": "code",
   "execution_count": 291,
   "metadata": {},
   "outputs": [],
   "source": [
    "def sigmoid(z):\n",
    "    return 1.0/(1.0+np.exp(-z))\n",
    "\n",
    "def sigmoid_prime(z):\n",
    "    return sigmoid(z)*(1-sigmoid(z))\n"
   ]
  },
  {
   "cell_type": "code",
   "execution_count": 292,
   "metadata": {},
   "outputs": [],
   "source": [
    "training_data, validation_data, test_data = load_data_wrapper()\n"
   ]
  },
  {
   "cell_type": "code",
   "execution_count": 293,
   "metadata": {
    "scrolled": true
   },
   "outputs": [],
   "source": [
    "\n",
    "net = Network([784, 30, 10])"
   ]
  },
  {
   "cell_type": "code",
   "execution_count": 294,
   "metadata": {
    "scrolled": true
   },
   "outputs": [
    {
     "name": "stdout",
     "output_type": "stream",
     "text": [
      "Epoch 0: 9050 / 10000 \n",
      "Epoch 1: 9197 / 10000 \n",
      "Epoch 2: 9286 / 10000 \n",
      "Epoch 3: 9360 / 10000 \n",
      "Epoch 4: 9374 / 10000 \n",
      "Epoch 5: 9355 / 10000 \n",
      "Epoch 6: 9433 / 10000 \n",
      "Epoch 7: 9429 / 10000 \n",
      "Epoch 8: 9439 / 10000 \n",
      "Epoch 9: 9445 / 10000 \n",
      "Epoch 10: 9462 / 10000 \n",
      "Epoch 11: 9471 / 10000 \n",
      "Epoch 12: 9476 / 10000 \n",
      "Epoch 13: 9456 / 10000 \n",
      "Epoch 14: 9486 / 10000 \n",
      "Epoch 15: 9471 / 10000 \n",
      "Epoch 16: 9479 / 10000 \n",
      "Epoch 17: 9504 / 10000 \n",
      "Epoch 18: 9497 / 10000 \n",
      "Epoch 19: 9490 / 10000 \n",
      "Epoch 20: 9506 / 10000 \n",
      "Epoch 21: 9497 / 10000 \n",
      "Epoch 22: 9517 / 10000 \n",
      "Epoch 23: 9497 / 10000 \n",
      "Epoch 24: 9536 / 10000 \n",
      "Epoch 25: 9504 / 10000 \n",
      "Epoch 26: 9527 / 10000 \n",
      "Epoch 27: 9513 / 10000 \n",
      "Epoch 28: 9505 / 10000 \n",
      "Epoch 29: 9499 / 10000 \n"
     ]
    }
   ],
   "source": [
    "net.SGD(training_data, 30, 10, 3.0, test_data = test_data)"
   ]
  },
  {
   "cell_type": "code",
   "execution_count": 295,
   "metadata": {},
   "outputs": [],
   "source": [
    "net = Network([784, 100, 10])"
   ]
  },
  {
   "cell_type": "code",
   "execution_count": 298,
   "metadata": {},
   "outputs": [
    {
     "name": "stdout",
     "output_type": "stream",
     "text": [
      "Epoch 0: 1020 / 10000 \n",
      "Epoch 1: 1020 / 10000 \n",
      "Epoch 2: 1020 / 10000 \n",
      "Epoch 3: 1020 / 10000 \n",
      "Epoch 4: 1020 / 10000 \n",
      "Epoch 5: 1019 / 10000 \n",
      "Epoch 6: 1019 / 10000 \n",
      "Epoch 7: 1020 / 10000 \n",
      "Epoch 8: 1020 / 10000 \n",
      "Epoch 9: 1020 / 10000 \n",
      "Epoch 10: 1021 / 10000 \n",
      "Epoch 11: 1021 / 10000 \n",
      "Epoch 12: 1021 / 10000 \n",
      "Epoch 13: 1022 / 10000 \n",
      "Epoch 14: 1022 / 10000 \n",
      "Epoch 15: 1022 / 10000 \n",
      "Epoch 16: 1022 / 10000 \n",
      "Epoch 17: 1022 / 10000 \n",
      "Epoch 18: 1022 / 10000 \n",
      "Epoch 19: 1022 / 10000 \n",
      "Epoch 20: 1022 / 10000 \n",
      "Epoch 21: 1022 / 10000 \n",
      "Epoch 22: 1022 / 10000 \n",
      "Epoch 23: 1022 / 10000 \n",
      "Epoch 24: 1022 / 10000 \n",
      "Epoch 25: 1022 / 10000 \n",
      "Epoch 26: 1022 / 10000 \n",
      "Epoch 27: 1021 / 10000 \n",
      "Epoch 28: 1021 / 10000 \n",
      "Epoch 29: 1021 / 10000 \n"
     ]
    }
   ],
   "source": [
    "net.SGD(training_data, 30, 10, 100.0, test_data = test_data)"
   ]
  },
  {
   "cell_type": "code",
   "execution_count": 299,
   "metadata": {},
   "outputs": [],
   "source": [
    "net = Network([784, 0 , 10])"
   ]
  },
  {
   "cell_type": "code",
   "execution_count": 300,
   "metadata": {},
   "outputs": [
    {
     "name": "stdout",
     "output_type": "stream",
     "text": [
      "Epoch 0: 980 / 10000 \n",
      "Epoch 1: 892 / 10000 \n",
      "Epoch 2: 958 / 10000 \n",
      "Epoch 3: 1135 / 10000 \n",
      "Epoch 4: 980 / 10000 \n",
      "Epoch 5: 1010 / 10000 \n",
      "Epoch 6: 1010 / 10000 \n",
      "Epoch 7: 974 / 10000 \n",
      "Epoch 8: 974 / 10000 \n",
      "Epoch 9: 974 / 10000 \n",
      "Epoch 10: 1032 / 10000 \n",
      "Epoch 11: 974 / 10000 \n",
      "Epoch 12: 982 / 10000 \n",
      "Epoch 13: 982 / 10000 \n",
      "Epoch 14: 982 / 10000 \n",
      "Epoch 15: 958 / 10000 \n",
      "Epoch 16: 958 / 10000 \n",
      "Epoch 17: 958 / 10000 \n",
      "Epoch 18: 1009 / 10000 \n",
      "Epoch 19: 1009 / 10000 \n",
      "Epoch 20: 1032 / 10000 \n",
      "Epoch 21: 1009 / 10000 \n",
      "Epoch 22: 1009 / 10000 \n",
      "Epoch 23: 974 / 10000 \n",
      "Epoch 24: 1009 / 10000 \n",
      "Epoch 25: 1010 / 10000 \n",
      "Epoch 26: 974 / 10000 \n",
      "Epoch 27: 974 / 10000 \n",
      "Epoch 28: 980 / 10000 \n",
      "Epoch 29: 958 / 10000 \n"
     ]
    }
   ],
   "source": [
    "net.SGD(training_data, 30, 10, 100.0, test_data = test_data)"
   ]
  },
  {
   "cell_type": "code",
   "execution_count": null,
   "metadata": {},
   "outputs": [],
   "source": []
  }
 ],
 "metadata": {
  "kernelspec": {
   "display_name": "Python 3",
   "language": "python",
   "name": "python3"
  },
  "language_info": {
   "codemirror_mode": {
    "name": "ipython",
    "version": 3
   },
   "file_extension": ".py",
   "mimetype": "text/x-python",
   "name": "python",
   "nbconvert_exporter": "python",
   "pygments_lexer": "ipython3",
   "version": "3.6.5"
  }
 },
 "nbformat": 4,
 "nbformat_minor": 2
}
